{
  "nbformat": 4,
  "nbformat_minor": 0,
  "metadata": {
    "colab": {
      "provenance": []
    },
    "kernelspec": {
      "name": "python3",
      "display_name": "Python 3"
    },
    "language_info": {
      "name": "python"
    }
  },
  "cells": [
    {
      "cell_type": "markdown",
      "source": [
        "Comment utiliser mon modèle entrainé sur une image ?"
      ],
      "metadata": {
        "id": "XqtfXaqwhzgx"
      }
    },
    {
      "cell_type": "code",
      "execution_count": null,
      "metadata": {
        "id": "ntp66M81feCp"
      },
      "outputs": [],
      "source": [
        "#Donne accès à mon drive\n",
        "from google.colab import drive\n",
        "drive.mount('/content/gdrive')"
      ]
    },
    {
      "cell_type": "code",
      "source": [
        "# pip installe le package ultralytics\n",
        "!pip install ultralytics"
      ],
      "metadata": {
        "id": "-KwnZPW7flKq"
      },
      "execution_count": null,
      "outputs": []
    },
    {
      "cell_type": "code",
      "source": [
        "#Importe YOLO\n",
        "from ultralytics import YOLO"
      ],
      "metadata": {
        "id": "B89hDWPafooK"
      },
      "execution_count": 3,
      "outputs": []
    },
    {
      "cell_type": "code",
      "source": [
        "#Importe mon modèle last.pt\n",
        "model=YOLO('/content/gdrive/MyDrive/Fac/Stage_M1/Camera_trap/last.pt')"
      ],
      "metadata": {
        "id": "CyWmrrDag53C"
      },
      "execution_count": 8,
      "outputs": []
    },
    {
      "cell_type": "code",
      "source": [
        "#La fonction detect_objects utilise le modèle sur l'image à identifier et enregistre les coordonées, probabilité, catégorie dans detections\n",
        "def detect_objects(image):\n",
        "    results = model(image)[0]\n",
        "\n",
        "    detections = []\n",
        "    for result in results.boxes.data.tolist():\n",
        "        x1, y1, x2, y2, score, class_id = result\n",
        "        detections.append([int(x1), int(y1), int(x2), int(y2), round(score, 3),\n",
        "                           results.names[int(class_id)]])\n",
        "\n",
        "    return detections"
      ],
      "metadata": {
        "id": "6LopA6YGjHwK"
      },
      "execution_count": 17,
      "outputs": []
    },
    {
      "cell_type": "code",
      "source": [
        "#Image à prédire\n",
        "for detection in detect_objects('/content/gdrive/MyDrive/Fac/Stage_M1/Camera_trap/data/images/val/01080538.JPG'):\n",
        "    print(detection)"
      ],
      "metadata": {
        "id": "X1V_fr_-hj0H"
      },
      "execution_count": null,
      "outputs": []
    }
  ]
}