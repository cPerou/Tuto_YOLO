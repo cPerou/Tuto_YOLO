{
  "nbformat": 4,
  "nbformat_minor": 0,
  "metadata": {
    "colab": {
      "provenance": []
    },
    "kernelspec": {
      "name": "python3",
      "display_name": "Python 3"
    },
    "language_info": {
      "name": "python"
    }
  },
  "cells": [
    {
      "cell_type": "markdown",
      "source": [
        "Comment utiliser mon modèle entrainé sur une image ?"
      ],
      "metadata": {
        "id": "XqtfXaqwhzgx"
      }
    },
    {
      "cell_type": "markdown",
      "source": [
        "Comment utiliser YOLOv8\n",
        "https://inside-machinelearning.com/yolov8/\n",
        "\n",
        "Comment afficher les Bounding Box ?\n",
        "https://inside-machinelearning.com/bounding-boxes-python/"
      ],
      "metadata": {
        "id": "1TqrE29nUrkJ"
      }
    },
    {
      "cell_type": "code",
      "execution_count": null,
      "metadata": {
        "id": "ntp66M81feCp"
      },
      "outputs": [],
      "source": [
        "# Donner accès à mon drive\n",
        "from google.colab import drive\n",
        "drive.mount('/content/gdrive')"
      ]
    },
    {
      "cell_type": "code",
      "source": [
        "# pip installe le package ultralytics\n",
        "!pip install ultralytics"
      ],
      "metadata": {
        "id": "-KwnZPW7flKq"
      },
      "execution_count": null,
      "outputs": []
    },
    {
      "cell_type": "code",
      "source": [
        "# Importer YOLO\n",
        "from ultralytics import YOLO"
      ],
      "metadata": {
        "id": "B89hDWPafooK"
      },
      "execution_count": null,
      "outputs": []
    },
    {
      "cell_type": "code",
      "source": [
        "# Importer mon modèle last.pt\n",
        "model=YOLO('/content/gdrive/MyDrive/Fac/Stage_M1/Camera_trap/last.pt')"
      ],
      "metadata": {
        "id": "CyWmrrDag53C"
      },
      "execution_count": null,
      "outputs": []
    },
    {
      "cell_type": "code",
      "source": [
        "# Génèrer prédiction sur une image, renvoyant une liste results\n",
        "results = model('/content/gdrive/MyDrive/Fac/Stage_M1/Camera_trap/data/images/test/01030277.JPG')\n",
        "# l'argument stream = True, retourne un générateur de résultats (utile pour les vidéos car économise de la mémoire)"
      ],
      "metadata": {
        "id": "FJzmcXcihBMV"
      },
      "execution_count": null,
      "outputs": []
    },
    {
      "cell_type": "code",
      "source": [
        "def detect_objects(image):\n",
        "    # Définir une fonction qui utilise le modèle et stock les coordonnées, le score, la catégorie, le chemin dans detections\n",
        "\n",
        "    detections = []\n",
        "    results = model(image) # Stock tous les resultats de la prédiction dans results\n",
        "    # Si j'utilise la fonction pour des longues video, ajouter l'argument stream=T pour stocker dans un générateur\n",
        "\n",
        "    # Parcourir les éléments de results\n",
        "    for result in results:\n",
        "        coord = result.boxes.xywhn.tolist()[0] # Coordonnées au format xywh normalisé, dans une liste tensor, convertis en liste python avec .tolist()\n",
        "        score = result.boxes.conf.tolist()\n",
        "        classe = result.names[int(result.boxes.cls)] # Nom de la classe\n",
        "        name = result.path\n",
        "\n",
        "        # Stocker certains éléments dans detection_info = (chemin, classe, score, x, y, w, h)\n",
        "        detection_info = (name, classe, round(score[0], 3), # Round permet d'arrondir la valeur\n",
        "                          round(coord[0],6), round(coord[1],6), round(coord[2],6), round(coord[3],6))\n",
        "        # Ameliorations : ajouter le nombre de lynx et stocker dans un tableau\n",
        "\n",
        "        detections.append(detection_info) # Ajouter detection_info d'une image à la liste globale detections\n",
        "\n",
        "    return detections # Afficher detections en sortie"
      ],
      "metadata": {
        "id": "BZAnD_pYh7UH"
      },
      "execution_count": null,
      "outputs": []
    },
    {
      "cell_type": "code",
      "source": [
        "# Utiliser la fonction sur des images ou video\n",
        "for detection in detect_objects('/content/gdrive/MyDrive/Fac/Stage_M1/Camera_trap/data/images/test'):\n",
        "    print(detection)"
      ],
      "metadata": {
        "id": "X1V_fr_-hj0H"
      },
      "execution_count": null,
      "outputs": []
    }
  ]
}