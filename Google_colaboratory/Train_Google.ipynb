{
  "nbformat": 4,
  "nbformat_minor": 0,
  "metadata": {
    "colab": {
      "provenance": [],
      "gpuType": "T4"
    },
    "kernelspec": {
      "name": "python3",
      "display_name": "Python 3"
    },
    "language_info": {
      "name": "python"
    },
    "accelerator": "GPU"
  },
  "cells": [
    {
      "cell_type": "markdown",
      "source": [
        "Tutoriel complet YOLOv5\n",
        "https://docs.ultralytics.com/yolov5/\n",
        "\n",
        "Tuto pour formater les fichiers à entrer\n",
        "https://docs.ultralytics.com/datasets/detect/\n",
        "\n",
        "Exemple de code COCO\n",
        "https://github.com/ultralytics/ultralytics/blob/main/ultralytics/datasets/coco.yaml\n",
        "\n",
        "Format des données\n",
        "https://cocodataset.org/#format-data\n",
        "\n",
        "Tutoriel complet de YOLO sur YouTube : détection, classification, segmentation, pose\n",
        "https://www.youtube.com/watch?v=Z-65nqxUdl4&t=2972s\n"
      ],
      "metadata": {
        "id": "I2rM_JJ5y2w8"
      }
    },
    {
      "cell_type": "code",
      "source": [
        "#donne accès à mon drive\n",
        "from google.colab import drive\n",
        "drive.mount('/content/gdrive')"
      ],
      "metadata": {
        "id": "7jf1Rdwh8_zR"
      },
      "execution_count": null,
      "outputs": []
    },
    {
      "cell_type": "code",
      "source": [
        "# installe le package ultralytics\n",
        "!pip install ultralytics"
      ],
      "metadata": {
        "id": "UXI_V-wNxpQl"
      },
      "execution_count": null,
      "outputs": []
    },
    {
      "cell_type": "code",
      "source": [
        "#importe YOLO\n",
        "from ultralytics import YOLO"
      ],
      "metadata": {
        "id": "AP55ldlCVrGd"
      },
      "execution_count": 3,
      "outputs": []
    },
    {
      "cell_type": "code",
      "source": [
        "#connaitre mon chemin d'accès\n",
        "\n",
        "#première méthode\n",
        "# \"!ls\" liste tous les fichiers présent dans ce chemin\n",
        "!ls '/content/gdrive/MyDrive/Fac/Stage_M1/Camera_trap'\n",
        "\n",
        "#deuxième méthode\n",
        "#onglet \"Fichiers\" à gauche à dérouler\n",
        "#clic droit/Copier le chemin d'accès"
      ],
      "metadata": {
        "id": "Z4M51pPwWsHH"
      },
      "execution_count": null,
      "outputs": []
    },
    {
      "cell_type": "code",
      "source": [
        "#indique à ultralytics le chemin d'accès général\n",
        "ROOT_DIR='/content/gdrive/MyDrive'"
      ],
      "metadata": {
        "id": "BPt-V76gY3Md"
      },
      "execution_count": 5,
      "outputs": []
    },
    {
      "cell_type": "code",
      "source": [
        "# load un model pré-entrainé\n",
        "model = YOLO(\"yolov8n.yaml\")\n",
        "\n",
        "# entraine le model\n",
        "results=model.train(data='/content/gdrive/MyDrive/Fac/Stage_M1/Camera_trap/data/data.yaml', epochs=1)  # données, période, nbr pixel en hauteur\n",
        "#peut ajouter des époques pour avoir des meilleurs résultats\n",
        "#peut ajouter des arguments pour spécifier le modèles et avoire des meilleurs résultats\n",
        "#device=cpu pour utiliser multi-CPU\n",
        "#device='mps' pour utiliser Apple M1 and M2 MPS\n"
      ],
      "metadata": {
        "id": "QwCRyVceyEpT"
      },
      "execution_count": null,
      "outputs": []
    },
    {
      "cell_type": "code",
      "source": [
        "#si message d'erreur UTF-8 pour enregistrer les runs\n",
        "import locale\n",
        "locale.getpreferredencoding = lambda: \"UTF-8\"\n",
        "\n",
        "#enregistre tous les runs\n",
        "!scp -r /content/runs '/content/gdrive/MyDrive/Fac/Stage_M1/Camera_trap/data'"
      ],
      "metadata": {
        "id": "ao9iAjTOm04x"
      },
      "execution_count": null,
      "outputs": []
    }
  ]
}